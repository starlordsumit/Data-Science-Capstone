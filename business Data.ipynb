{
 "cells": [
  {
   "cell_type": "markdown",
   "metadata": {},
   "source": [
    "# Battle of Neighborhoods\n",
    "\n",
    "</br>\n",
    "\n",
    "## Data Description\n",
    "\n",
    "</br>\n",
    "\n",
    "### For this project we need the following data :\n",
    "\n",
    "</br>\n",
    "\n",
    "New Delhi Resturants data that contains list Locality, Resturant name,Rating along with their latitude and longitude.\n",
    " * Data source : Zomato kaggel dataset : \"https://www.kaggle.com/shrutimehta/zomato-restaurants-data\"\n",
    " \n",
    " </br>\n",
    " \n",
    "Description : This data set contains the required information. And we will use this data set to explore various locality of new delhi city.\n",
    "Nearby places in each locality of new delhi city.\n",
    " * Data source : Fousquare API : \"https://developer.foursquare.com/\"\n",
    " \n",
    " </br>\n",
    " \n",
    "Description : By using this api we will get all the venues in each neighborhood."
   ]
  },
  {
   "cell_type": "code",
   "execution_count": null,
   "metadata": {},
   "outputs": [],
   "source": []
  }
 ],
 "metadata": {
  "kernelspec": {
   "display_name": "Python 3.6",
   "language": "python",
   "name": "python3"
  },
  "language_info": {
   "codemirror_mode": {
    "name": "ipython",
    "version": 3
   },
   "file_extension": ".py",
   "mimetype": "text/x-python",
   "name": "python",
   "nbconvert_exporter": "python",
   "pygments_lexer": "ipython3",
   "version": "3.6.9"
  }
 },
 "nbformat": 4,
 "nbformat_minor": 1
}
