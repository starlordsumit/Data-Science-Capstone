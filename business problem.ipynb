{
 "cells": [
  {
   "cell_type": "markdown",
   "metadata": {
    "collapsed": true
   },
   "source": [
    "# Battle of neighourboods\n",
    "\n",
    "</br>\n",
    "\n",
    "## Business Problem\n",
    "\n",
    "</br>\n",
    "\n",
    "New Delhi is the capital city of India. It is a part of the city of Delhi’s 11 districts. The city itself has a population of 257,803. However, the much larger metro area has a population that exceeds 26 million. New Delhi are used interchangeably to refer to the National Capital Territory of Delhi (NCT), these are two distinct entities, with New Delhi forming a small part of Delhi. The National Capital Region is a much larger entity comprising the entire NCT along with adjoining districts in neighboring states.\n",
    "\n",
    "</br>\n",
    "\n",
    "The official language of New Delhi and the one that is most widely spoken is Hindi. However, English is also spoken as a formal language within businesses and government agencies. Over last decades it is continuously grow because of the city’s important role in government and commercial business.\n",
    "\n",
    "</br>\n",
    "\n",
    "With it’s diverse culture , comes diverse food items. There are many restaurants in New Delhi City, each belonging to different categories like Chinese , Italian , French etc.\n",
    "So as part of this project , we will list and visualize all major parts of New Delhi City .\n",
    "\n",
    "\n",
    "</br>\n",
    "\n",
    "\n",
    "### Questions that can be asked using the above mentioned datasets\n",
    "\n",
    "</br>\n",
    "\n",
    "* What is best location in New Delhi City for Chinese Cuisine ?\n",
    "* Which areas have large number of Chinese Resturant Market ?\n",
    "* Which all areas have less number of resturant ?\n",
    "* Which is the best place to stay if I prefer Chinese Cuisine ?\n",
    "* What places are have best restaurant in New Delhi?"
   ]
  },
  {
   "cell_type": "code",
   "execution_count": null,
   "metadata": {},
   "outputs": [],
   "source": []
  }
 ],
 "metadata": {
  "kernelspec": {
   "display_name": "Python 3.6",
   "language": "python",
   "name": "python3"
  },
  "language_info": {
   "codemirror_mode": {
    "name": "ipython",
    "version": 3
   },
   "file_extension": ".py",
   "mimetype": "text/x-python",
   "name": "python",
   "nbconvert_exporter": "python",
   "pygments_lexer": "ipython3",
   "version": "3.6.9"
  }
 },
 "nbformat": 4,
 "nbformat_minor": 1
}
